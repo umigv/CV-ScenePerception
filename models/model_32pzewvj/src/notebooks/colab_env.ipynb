{
 "cells": [
  {
   "cell_type": "markdown",
   "metadata": {},
   "source": [
    "Import Libraries"
   ]
  },
  {
   "cell_type": "code",
   "execution_count": 10,
   "metadata": {},
   "outputs": [],
   "source": [
    "import os\n",
    "import shutil\n",
    "from datetime import datetime\n",
    "import numpy as np\n",
    "import cv2\n",
    "import time\n",
    "from concurrent.futures import ThreadPoolExecutor\n",
    "from tqdm.notebook import tqdm\n",
    "from getpass import getpass\n",
    "import dropbox\n",
    "import http.client\n",
    "from requests.exceptions import ChunkedEncodingError\n",
    "import urllib3.exceptions\n",
    "import requests\n",
    "\n",
    "def copy_directory(source_dir, destination_dir):\n",
    "    if not os.path.exists(destination_dir):\n",
    "        os.makedirs(destination_dir)\n",
    "    for item in os.listdir(source_dir):\n",
    "        source_item = os.path.join(source_dir, item)\n",
    "        destination_item = os.path.join(destination_dir, item)\n",
    "        if os.path.isdir(source_item):\n",
    "            copy_directory(source_item, destination_item)\n",
    "        else:\n",
    "            shutil.copy2(source_item, destination_item)\n",
    "\n",
    "def base10_to_base36(number):\n",
    "    if number == 0:\n",
    "        return '0'\n",
    "    base36_chars = \"0123456789abcdefghijklmnopqrstuvwxyz\"\n",
    "    result = ''\n",
    "    while number > 0:\n",
    "        number, remainder = divmod(number, 36)\n",
    "        result = base36_chars[remainder] + result\n",
    "    return result\n",
    "\n",
    "def copy_directory_from_dropbox(source_dir, destination_dir, dbx=None, dbx_access_token=None, use_thread=True):\n",
    "\n",
    "    if dbx is None:\n",
    "        if dbx_access_token is None:\n",
    "            dbx_access_token = getpass.getpass(\"Enter your DropBox access token: \")\n",
    "        dbx = dropbox.Dropbox(dbx_access_token)\n",
    "\n",
    "    if not os.path.exists(destination_dir):\n",
    "        os.makedirs(destination_dir)\n",
    "\n",
    "    result = dbx.files_list_folder(source_dir)\n",
    "    entries = result.entries\n",
    "    while result.has_more:\n",
    "        result = dbx.files_list_folder_continue(result.cursor)\n",
    "        entries.extend(result.entries)\n",
    "    total_items = len(entries)\n",
    "\n",
    "    def download_and_save(item, max_retries=5):\n",
    "        source_item_path = item.path_display\n",
    "        destination_item_path = os.path.join(destination_dir, os.path.basename(source_item_path))\n",
    "        for retry in range(max_retries):\n",
    "            try:\n",
    "                if isinstance(item, dropbox.files.FolderMetadata):\n",
    "                    copy_directory_from_dropbox(source_item_path, destination_item_path, dbx=dbx, use_thread=use_thread)\n",
    "                else:\n",
    "                    response = requests.get(dbx.files_get_temporary_link(source_item_path).link, timeout=60)\n",
    "                    content = response.content\n",
    "                    nparr = np.frombuffer(content, np.uint8)\n",
    "                    image = cv2.imdecode(nparr, cv2.IMREAD_COLOR)\n",
    "                    cv2.imwrite(destination_item_path, image)\n",
    "                break\n",
    "            except Exception as e:\n",
    "                if retry < max_retries - 1:\n",
    "                    time.sleep(5)\n",
    "                else:\n",
    "                    print(f\"\\nUnable to download: {item.path_display}\\n\\tError: {e}\")\n",
    "                \n",
    "    if use_thread:\n",
    "        with ThreadPoolExecutor() as executor:\n",
    "            list(tqdm(executor.map(download_and_save, entries), total=total_items, desc=f\"Downloading {source_dir} :\", unit=\" image\"))\n",
    "    else:\n",
    "        for item in tqdm(entries, total=total_items, desc=f\"Downloading {source_dir} :\", unit=\" image\"):\n",
    "            download_and_save(item)\n",
    "\n",
    "def download_datasets_from_dropbox(dbx=None, dbx_access_token=None, use_thread=False, datasets=None, include_all_datasets=True):\n",
    "\n",
    "    if dbx is None:\n",
    "        if dbx_access_token is None:\n",
    "            dbx_access_token = getpass(\"Enter your DropBox access token: \")\n",
    "        dbx = dropbox.Dropbox(dbx_access_token)\n",
    "    \n",
    "    dbx_datasets_dir = '/UMARV/ComputerVision/ScenePerception/datasets'\n",
    "\n",
    "    if datasets is not None:\n",
    "        dataset_dirs = datasets\n",
    "            \n",
    "    else:\n",
    "        dataset_dirs = []\n",
    "        for dataset_category in [\"real_world\", \"benchmarks\"]:\n",
    "            # Collect dataset image directories from DropBox\n",
    "            dataset_category_dir = f\"{dbx_datasets_dir}/{dataset_category}\"\n",
    "            result = dbx.files_list_folder(dataset_category_dir)\n",
    "            for entry in result.entries:\n",
    "                if isinstance(entry, dropbox.files.FolderMetadata):\n",
    "                    found_dataset_dir = entry.path_display.lower().replace(dbx_datasets_dir.lower(),\"\")\n",
    "                    dataset_dirs.append(found_dataset_dir)\n",
    "            while result.has_more:\n",
    "                result = dbx.files_list_folder_continue(result.cursor)\n",
    "                for entry in result.entries:\n",
    "                    if isinstance(entry, dropbox.files.FolderMetadata):\n",
    "                        found_dataset_dir = entry.path_display.lower().replace(dbx_datasets_dir.lower(),\"\")\n",
    "                        dataset_dirs.append(found_dataset_dir)\n",
    "\n",
    "    for dataset_dir in dataset_dirs:\n",
    "        copy_directory_from_dropbox(\n",
    "            source_dir = f\"{dbx_datasets_dir}/{dataset_dir}\",\n",
    "            destination_dir = f\"{os.getenv('ROOT_DIR')}/datasets/{dataset_dir}\",\n",
    "            dbx = dbx,\n",
    "            dbx_access_token = dbx_access_token,\n",
    "            use_thread = use_thread\n",
    "        )"
   ]
  },
  {
   "cell_type": "code",
   "execution_count": 1,
   "metadata": {
    "colab": {
     "base_uri": "https://localhost:8080/"
    },
    "id": "6YXxEdBDMFwU",
    "outputId": "6309c12d-63f7-4f18-c2d3-a4dcdf549342"
   },
   "outputs": [],
   "source": [
    "import os\n",
    "import sys\n",
    "from getpass import getpass\n",
    "import torch.optim as optim\n",
    "!pip install dropbox > /dev/null"
   ]
  },
  {
   "cell_type": "markdown",
   "metadata": {},
   "source": [
    "Configure Environment"
   ]
  },
  {
   "cell_type": "code",
   "execution_count": 2,
   "metadata": {},
   "outputs": [],
   "source": [
    "os.environ[\"ENVIRONMENT\"] = \"colab\"\n",
    "os.environ[\"REPO_DIR\"] = \"/content/UMARV-CV-ScenePerception\"\n",
    "os.environ[\"ROOT_DIR\"] = \"/content\"\n",
    "os.environ[\"MODEL_ID\"] = \"32pzewvj\"\n",
    "os.environ[\"MODEL_DIR\"] = f\"{os.getenv('REPO_DIR')}/models/model_{os.getenv('MODEL_ID')}\""
   ]
  },
  {
   "cell_type": "markdown",
   "metadata": {
    "id": "TWu7wpa8IRD1"
   },
   "source": [
    "Configure git"
   ]
  },
  {
   "cell_type": "code",
   "execution_count": 3,
   "metadata": {
    "colab": {
     "base_uri": "https://localhost:8080/"
    },
    "id": "EXXt5L25_kb6",
    "outputId": "f35ff01b-795d-4866-c9d1-67061edcfa63"
   },
   "outputs": [],
   "source": [
    "# Fill in your GitHub branch\n",
    "git_branch = \"user/PedroBrandao\""
   ]
  },
  {
   "cell_type": "code",
   "execution_count": 4,
   "metadata": {},
   "outputs": [
    {
     "name": "stdout",
     "output_type": "stream",
     "text": [
      "Cloning into 'UMARV-CV-ScenePerception'...\n",
      "fatal: Remote branch user/PedroBrandao not found in upstream origin\n",
      "[Errno 2] No such file or directory: '/content/UMARV-CV-ScenePerception'\n",
      "/home/brandaop/UMARV/ScenePerception/UMARV-CV-ScenePerception/models/model_32pzewvj/src/notebooks\n"
     ]
    },
    {
     "name": "stderr",
     "output_type": "stream",
     "text": [
      "/home/brandaop/.local/lib/python3.10/site-packages/IPython/core/magics/osm.py:393: UserWarning: This is now an optional IPython functionality, using bookmarks requires you to install the `pickleshare` library.\n",
      "  bkms = self.shell.db.get('bookmarks', {})\n"
     ]
    }
   ],
   "source": [
    "while not git_branch:\n",
    "    git_branch = input(\"Enter your branch: \")\n",
    "\n",
    "git_repo_url = \"https://github.com/AwrodHaghiTabrizi/UMARV-CV-ScenePerception.git\"\n",
    "!git clone -b $git_branch $git_repo_url\n",
    "%cd \"{os.getenv('REPO_DIR')}\""
   ]
  },
  {
   "cell_type": "markdown",
   "metadata": {},
   "source": [
    "Import Repository Resources"
   ]
  },
  {
   "cell_type": "code",
   "execution_count": 17,
   "metadata": {},
   "outputs": [
    {
     "ename": "ModuleNotFoundError",
     "evalue": "No module named 'methods'",
     "output_type": "error",
     "traceback": [
      "\u001b[0;31m---------------------------------------------------------------------------\u001b[0m",
      "\u001b[0;31mModuleNotFoundError\u001b[0m                       Traceback (most recent call last)",
      "Cell \u001b[0;32mIn[17], line 5\u001b[0m\n\u001b[1;32m      1\u001b[0m sys\u001b[38;5;241m.\u001b[39mpath\u001b[38;5;241m.\u001b[39minsert(\u001b[38;5;241m0\u001b[39m, \u001b[38;5;124mf\u001b[39m\u001b[38;5;124m\"\u001b[39m\u001b[38;5;132;01m{\u001b[39;00mos\u001b[38;5;241m.\u001b[39mgetenv(\u001b[38;5;124m'\u001b[39m\u001b[38;5;124mREPO_DIR\u001b[39m\u001b[38;5;124m'\u001b[39m)\u001b[38;5;132;01m}\u001b[39;00m\u001b[38;5;124m/src\u001b[39m\u001b[38;5;124m\"\u001b[39m)\n\u001b[1;32m      4\u001b[0m sys\u001b[38;5;241m.\u001b[39mpath\u001b[38;5;241m.\u001b[39minsert(\u001b[38;5;241m0\u001b[39m, \u001b[38;5;124mf\u001b[39m\u001b[38;5;124m\"\u001b[39m\u001b[38;5;132;01m{\u001b[39;00mos\u001b[38;5;241m.\u001b[39mgetenv(\u001b[38;5;124m'\u001b[39m\u001b[38;5;124mMODEL_DIR\u001b[39m\u001b[38;5;124m'\u001b[39m)\u001b[38;5;132;01m}\u001b[39;00m\u001b[38;5;124m/src\u001b[39m\u001b[38;5;124m\"\u001b[39m)\n\u001b[0;32m----> 5\u001b[0m \u001b[38;5;28;01mfrom\u001b[39;00m \u001b[38;5;21;01mmethods\u001b[39;00m \u001b[38;5;28;01mimport\u001b[39;00m \u001b[38;5;241m*\u001b[39m\n\u001b[1;32m      6\u001b[0m \u001b[38;5;28;01mfrom\u001b[39;00m \u001b[38;5;21;01marchitecture\u001b[39;00m \u001b[38;5;28;01mimport\u001b[39;00m \u001b[38;5;241m*\u001b[39m\n\u001b[1;32m      7\u001b[0m \u001b[38;5;28;01mfrom\u001b[39;00m \u001b[38;5;21;01mdataset\u001b[39;00m \u001b[38;5;28;01mimport\u001b[39;00m \u001b[38;5;241m*\u001b[39m\n",
      "\u001b[0;31mModuleNotFoundError\u001b[0m: No module named 'methods'"
     ]
    }
   ],
   "source": [
    "sys.path.insert(0, f\"{os.getenv('REPO_DIR')}/src\")\n",
    "\n",
    "\n",
    "sys.path.insert(0, f\"{os.getenv('MODEL_DIR')}/src\")\n",
    "from methods import *\n",
    "from architecture import *\n",
    "from dataset import *"
   ]
  },
  {
   "cell_type": "markdown",
   "metadata": {},
   "source": [
    "Download Datasets"
   ]
  },
  {
   "cell_type": "code",
   "execution_count": 16,
   "metadata": {},
   "outputs": [
    {
     "ename": "KeyboardInterrupt",
     "evalue": "Interrupted by user",
     "output_type": "error",
     "traceback": [
      "\u001b[0;31m---------------------------------------------------------------------------\u001b[0m",
      "\u001b[0;31mKeyboardInterrupt\u001b[0m                         Traceback (most recent call last)",
      "Cell \u001b[0;32mIn[16], line 1\u001b[0m\n\u001b[0;32m----> 1\u001b[0m dbx_access_token \u001b[38;5;241m=\u001b[39m \u001b[43mgetpass\u001b[49m\u001b[43m(\u001b[49m\u001b[38;5;124;43m\"\u001b[39;49m\u001b[38;5;124;43mEnter your DropBox access token: \u001b[39;49m\u001b[38;5;124;43m\"\u001b[39;49m\u001b[43m)\u001b[49m\n",
      "File \u001b[0;32m~/.local/lib/python3.10/site-packages/ipykernel/kernelbase.py:1265\u001b[0m, in \u001b[0;36mKernel.getpass\u001b[0;34m(self, prompt, stream)\u001b[0m\n\u001b[1;32m   1258\u001b[0m     \u001b[38;5;28;01mimport\u001b[39;00m \u001b[38;5;21;01mwarnings\u001b[39;00m\n\u001b[1;32m   1260\u001b[0m     warnings\u001b[38;5;241m.\u001b[39mwarn(\n\u001b[1;32m   1261\u001b[0m         \u001b[38;5;124m\"\u001b[39m\u001b[38;5;124mThe `stream` parameter of `getpass.getpass` will have no effect when using ipykernel\u001b[39m\u001b[38;5;124m\"\u001b[39m,\n\u001b[1;32m   1262\u001b[0m         \u001b[38;5;167;01mUserWarning\u001b[39;00m,\n\u001b[1;32m   1263\u001b[0m         stacklevel\u001b[38;5;241m=\u001b[39m\u001b[38;5;241m2\u001b[39m,\n\u001b[1;32m   1264\u001b[0m     )\n\u001b[0;32m-> 1265\u001b[0m \u001b[38;5;28;01mreturn\u001b[39;00m \u001b[38;5;28;43mself\u001b[39;49m\u001b[38;5;241;43m.\u001b[39;49m\u001b[43m_input_request\u001b[49m\u001b[43m(\u001b[49m\n\u001b[1;32m   1266\u001b[0m \u001b[43m    \u001b[49m\u001b[43mprompt\u001b[49m\u001b[43m,\u001b[49m\n\u001b[1;32m   1267\u001b[0m \u001b[43m    \u001b[49m\u001b[38;5;28;43mself\u001b[39;49m\u001b[38;5;241;43m.\u001b[39;49m\u001b[43m_parent_ident\u001b[49m\u001b[43m[\u001b[49m\u001b[38;5;124;43m\"\u001b[39;49m\u001b[38;5;124;43mshell\u001b[39;49m\u001b[38;5;124;43m\"\u001b[39;49m\u001b[43m]\u001b[49m\u001b[43m,\u001b[49m\n\u001b[1;32m   1268\u001b[0m \u001b[43m    \u001b[49m\u001b[38;5;28;43mself\u001b[39;49m\u001b[38;5;241;43m.\u001b[39;49m\u001b[43mget_parent\u001b[49m\u001b[43m(\u001b[49m\u001b[38;5;124;43m\"\u001b[39;49m\u001b[38;5;124;43mshell\u001b[39;49m\u001b[38;5;124;43m\"\u001b[39;49m\u001b[43m)\u001b[49m\u001b[43m,\u001b[49m\n\u001b[1;32m   1269\u001b[0m \u001b[43m    \u001b[49m\u001b[43mpassword\u001b[49m\u001b[38;5;241;43m=\u001b[39;49m\u001b[38;5;28;43;01mTrue\u001b[39;49;00m\u001b[43m,\u001b[49m\n\u001b[1;32m   1270\u001b[0m \u001b[43m\u001b[49m\u001b[43m)\u001b[49m\n",
      "File \u001b[0;32m~/.local/lib/python3.10/site-packages/ipykernel/kernelbase.py:1325\u001b[0m, in \u001b[0;36mKernel._input_request\u001b[0;34m(self, prompt, ident, parent, password)\u001b[0m\n\u001b[1;32m   1322\u001b[0m \u001b[38;5;28;01mexcept\u001b[39;00m \u001b[38;5;167;01mKeyboardInterrupt\u001b[39;00m:\n\u001b[1;32m   1323\u001b[0m     \u001b[38;5;66;03m# re-raise KeyboardInterrupt, to truncate traceback\u001b[39;00m\n\u001b[1;32m   1324\u001b[0m     msg \u001b[38;5;241m=\u001b[39m \u001b[38;5;124m\"\u001b[39m\u001b[38;5;124mInterrupted by user\u001b[39m\u001b[38;5;124m\"\u001b[39m\n\u001b[0;32m-> 1325\u001b[0m     \u001b[38;5;28;01mraise\u001b[39;00m \u001b[38;5;167;01mKeyboardInterrupt\u001b[39;00m(msg) \u001b[38;5;28;01mfrom\u001b[39;00m \u001b[38;5;28;01mNone\u001b[39;00m\n\u001b[1;32m   1326\u001b[0m \u001b[38;5;28;01mexcept\u001b[39;00m \u001b[38;5;167;01mException\u001b[39;00m:\n\u001b[1;32m   1327\u001b[0m     \u001b[38;5;28mself\u001b[39m\u001b[38;5;241m.\u001b[39mlog\u001b[38;5;241m.\u001b[39mwarning(\u001b[38;5;124m\"\u001b[39m\u001b[38;5;124mInvalid Message:\u001b[39m\u001b[38;5;124m\"\u001b[39m, exc_info\u001b[38;5;241m=\u001b[39m\u001b[38;5;28;01mTrue\u001b[39;00m)\n",
      "\u001b[0;31mKeyboardInterrupt\u001b[0m: Interrupted by user"
     ]
    }
   ],
   "source": [
    "dbx_access_token = getpass(\"Enter your DropBox access token: \")"
   ]
  },
  {
   "cell_type": "code",
   "execution_count": null,
   "metadata": {},
   "outputs": [],
   "source": [
    "# Set to True if datasets need to be downloaded to your google drive\n",
    "download_datasets = False\n",
    "\n",
    "if download_datasets:\n",
    "    download_datasets_from_dropbox(\n",
    "        dbx_access_token = dbx_access_token,\n",
    "        include_all_datasets = False,\n",
    "        use_thread = True\n",
    "    )\n",
    "    upload_datasets_to_google_drive()"
   ]
  },
  {
   "cell_type": "code",
   "execution_count": null,
   "metadata": {},
   "outputs": [],
   "source": [
    "# Set to True to pull datasets from google drive to your colab environment\n",
    "get_datasets = True\n",
    "\n",
    "if get_datasets:\n",
    "    get_datasets_from_google_drive()"
   ]
  },
  {
   "cell_type": "markdown",
   "metadata": {
    "id": "xh4-Gg6vL2R3"
   },
   "source": [
    "Code"
   ]
  },
  {
   "cell_type": "code",
   "execution_count": 5,
   "metadata": {
    "id": "0t0BM_lS_6yq"
   },
   "outputs": [],
   "source": [
    "num_epochs = 50\n",
    "batch_size = 20\n",
    "val_batch_size = 20\n",
    "val_ratio = 0.2                         # Percent of training set used for validation\n",
    "lookback = {\"count\": 0, \"stride\": 1}    # Prior frames model has access to"
   ]
  },
  {
   "cell_type": "code",
   "execution_count": null,
   "metadata": {},
   "outputs": [],
   "source": [
    "device = set_device()\n",
    "model = initialize_model(\n",
    "    device = device,\n",
    "    dbx_access_token = dbx_access_token,\n",
    "    lookback = lookback,\n",
    "    reset_weights = False\n",
    ")\n",
    "\n",
    "train_dataset, val_dataset = create_datasets(\n",
    "    device = device,\n",
    "    include_all_datasets = False,\n",
    "    include_real_world_datasets = True,\n",
    "    val_ratio = val_ratio,\n",
    "    lookback = lookback\n",
    ")\n",
    "\n",
    "train_dataloader, val_dataloader = create_dataloaders(\n",
    "    train_dataset = train_dataset,\n",
    "    val_dataset = val_dataset,\n",
    "    batch_size = batch_size,\n",
    "    val_batch_size = val_batch_size\n",
    ")\n",
    "\n",
    "optimizer = optim.SGD(model.parameters(), lr=0.01, momentum=0.9)\n",
    "criterion = nn.CrossEntropyLoss()"
   ]
  },
  {
   "cell_type": "code",
   "execution_count": null,
   "metadata": {},
   "outputs": [],
   "source": [
    "model, train_loss_hist, val_performance_hist, best_val_performance = training_loop(\n",
    "    model = model,\n",
    "    criterion = criterion,\n",
    "    optimizer = optimizer,\n",
    "    train_dataloader = train_dataloader,\n",
    "    val_dataloader = val_dataloader,\n",
    "    dbx_access_token = dbx_access_token,\n",
    "    num_epochs = num_epochs,\n",
    "    critiqueing_metric = \"Accuracy\",\n",
    "    auto_stop = False\n",
    ")"
   ]
  },
  {
   "cell_type": "code",
   "execution_count": null,
   "metadata": {},
   "outputs": [],
   "source": [
    "graph_loss_history(train_loss_hist)\n",
    "\n",
    "graph_performance_history(\n",
    "    performance_hist = val_performance_hist,\n",
    "    split = \"Val\",\n",
    "    metrics = [\"Accuracy\", \"Mean IoU\"]\n",
    ")\n",
    "\n",
    "show_sample_results(\n",
    "    model = model,\n",
    "    dataset = val_dataset,\n",
    "    device = device,\n",
    "    num_samples = 2\n",
    ")"
   ]
  },
  {
   "cell_type": "code",
   "execution_count": null,
   "metadata": {},
   "outputs": [],
   "source": [
    "test_model_on_benchmarks(\n",
    "    model = model,\n",
    "    device = device,\n",
    "    all_benchmarks = True,\n",
    "    num_sample_results = 2,\n",
    "    lookback = lookback\n",
    ")"
   ]
  },
  {
   "cell_type": "markdown",
   "metadata": {
    "id": "VrQ0WCEMLLEE"
   },
   "source": [
    "Push Changes (when ready)"
   ]
  },
  {
   "cell_type": "code",
   "execution_count": null,
   "metadata": {},
   "outputs": [],
   "source": [
    "# Fill in GitHub user info\n",
    "git_username = \"\"\n",
    "git_email = \"\""
   ]
  },
  {
   "cell_type": "code",
   "execution_count": null,
   "metadata": {},
   "outputs": [],
   "source": [
    "while not git_username:\n",
    "    git_username = input(\"Username left empty.\\nGitHub username: \")\n",
    "while not git_email:\n",
    "    git_email = input(\"Email left empty.\\nGitHub email: \")\n",
    "\n",
    "!git config --global user.name $git_username\n",
    "!git config --global user.email $git_email\n",
    "\n",
    "git_access_token = getpass(\"Enter your GitHub access token: \")\n",
    "\n",
    "git_push_url = f\"https://{git_username}:{git_access_token}@{git_repo_url.replace('https://','')}\"\n",
    "\n",
    "commit_message = input(\"Commit message: \")\n",
    "while not commit_message:\n",
    "    commit_message = input(\"Commit message cannot be empty\\nCommit message: \")\n",
    "\n",
    "!git add .\n",
    "!git commit -m \"{commit_message}\"\n",
    "!git push $git_push_url $git_branch"
   ]
  }
 ],
 "metadata": {
  "colab": {
   "provenance": []
  },
  "kernelspec": {
   "display_name": "Python 3",
   "name": "python3"
  },
  "language_info": {
   "codemirror_mode": {
    "name": "ipython",
    "version": 3
   },
   "file_extension": ".py",
   "mimetype": "text/x-python",
   "name": "python",
   "nbconvert_exporter": "python",
   "pygments_lexer": "ipython3",
   "version": "3.10.12"
  }
 },
 "nbformat": 4,
 "nbformat_minor": 0
}
